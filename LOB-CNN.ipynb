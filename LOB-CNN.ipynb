{
 "cells": [
  {
   "cell_type": "markdown",
   "metadata": {},
   "source": [
    "# LOB-CNN v1\n",
    "\n",
    "- 高频交易数据图像化建模与收益预测有效性分析"
   ]
  },
  {
   "cell_type": "code",
   "execution_count": 2,
   "metadata": {},
   "outputs": [],
   "source": [
    "import pandas as pd\n",
    "import numpy as np\n",
    "import matplotlib.pyplot as plt\n",
    "import tqdm\n",
    "\n",
    "\n",
    "import os\n",
    "import time\n",
    "from datetime import datetime\n",
    "import glob\n",
    "\n",
    "import utils as _U"
   ]
  },
  {
   "cell_type": "code",
   "execution_count": 2,
   "metadata": {},
   "outputs": [],
   "source": [
    "# 中证A50成分股\n",
    "# 信息来源：东方财富 20250324\n",
    "code_list = [\n",
    "    '688981sh', '603993sh', '603259sh', '601899sh', '601888sh', \n",
    "    '601816sh', '601766sh', '601668sh', '601600sh', '601318sh', \n",
    "    '601088sh', '601012sh', '600900sh', '600893sh', \n",
    "    '600887sh', '600660sh', '600585sh', '600519sh', '600436sh', \n",
    "    '600426sh', '600415sh', '600406sh', '600309sh', '600276sh', \n",
    "    '600176sh', '600036sh', '600031sh', '600030sh', '600028sh', \n",
    "    '600019sh', '600009sh', '300760sz', '300750sz', '300408sz', \n",
    "    '300124sz', '300122sz', '300015sz', '002714sz', '002594sz', \n",
    "    '002475sz', '002371sz', '002230sz', '002027sz', '000938sz', \n",
    "    '000792sz', '000725sz', '000333sz', '000063sz', '000002sz'\n",
    "    ]  "
   ]
  },
  {
   "cell_type": "markdown",
   "metadata": {},
   "source": [
    "### 磁盘取数 + 初步处理"
   ]
  },
  {
   "cell_type": "code",
   "execution_count": 10,
   "metadata": {},
   "outputs": [
    {
     "name": "stdout",
     "output_type": "stream",
     "text": [
      "688981sh.csv saved. Shape: (112535, 110)\n",
      "603993sh.csv saved. Shape: (112915, 110)\n",
      "603259sh.csv saved. Shape: (112969, 110)\n",
      "601899sh.csv saved. Shape: (113636, 110)\n",
      "601888sh.csv saved. Shape: (113026, 110)\n",
      "601816sh.csv saved. Shape: (109638, 110)\n",
      "601766sh.csv saved. Shape: (111964, 110)\n",
      "601668sh.csv saved. Shape: (112059, 110)\n",
      "601600sh.csv saved. Shape: (113377, 110)\n",
      "601318sh.csv saved. Shape: (113140, 110)\n",
      "601088sh.csv saved. Shape: (111852, 110)\n",
      "601012sh.csv saved. Shape: (113857, 110)\n",
      "600941sh not found\n",
      "600900sh.csv saved. Shape: (102694, 110)\n",
      "600893sh.csv saved. Shape: (112947, 110)\n",
      "600887sh.csv saved. Shape: (113381, 110)\n",
      "600660sh.csv saved. Shape: (111974, 110)\n",
      "600585sh.csv saved. Shape: (112096, 110)\n",
      "600519sh.csv saved. Shape: (112195, 110)\n",
      "600436sh.csv saved. Shape: (111181, 110)\n",
      "600426sh.csv saved. Shape: (112122, 110)\n",
      "600415sh.csv saved. Shape: (110154, 110)\n",
      "600406sh.csv saved. Shape: (112640, 110)\n",
      "600309sh.csv saved. Shape: (112288, 110)\n",
      "600276sh.csv saved. Shape: (113358, 110)\n",
      "600176sh.csv saved. Shape: (112441, 110)\n",
      "600036sh.csv saved. Shape: (112684, 110)\n",
      "600031sh.csv saved. Shape: (113564, 110)\n",
      "600030sh.csv saved. Shape: (112830, 110)\n",
      "600028sh.csv saved. Shape: (112646, 110)\n",
      "600019sh.csv saved. Shape: (113182, 110)\n",
      "600009sh.csv saved. Shape: (112191, 110)\n",
      "300760sz.csv saved. Shape: (109545, 91)\n",
      "300750sz.csv saved. Shape: (110627, 91)\n",
      "300408sz.csv saved. Shape: (108400, 91)\n",
      "300124sz.csv saved. Shape: (110502, 91)\n",
      "300122sz.csv saved. Shape: (110421, 91)\n",
      "300015sz.csv saved. Shape: (110448, 91)\n",
      "002714sz.csv saved. Shape: (110615, 91)\n",
      "002594sz.csv saved. Shape: (110684, 91)\n",
      "002475sz.csv saved. Shape: (110580, 91)\n",
      "002371sz.csv saved. Shape: (110155, 91)\n",
      "002230sz.csv saved. Shape: (110367, 91)\n",
      "002027sz.csv saved. Shape: (110574, 91)\n",
      "000938sz.csv saved. Shape: (110166, 91)\n",
      "000792sz.csv saved. Shape: (110647, 91)\n",
      "000725sz.csv saved. Shape: (110697, 91)\n",
      "000333sz.csv saved. Shape: (110556, 91)\n",
      "000063sz.csv saved. Shape: (110535, 91)\n",
      "000002sz.csv saved. Shape: (110639, 91)\n",
      "688981sh.csv saved. Shape: (116914, 110)\n",
      "603993sh.csv saved. Shape: (118006, 110)\n",
      "603259sh.csv saved. Shape: (118033, 110)\n",
      "601899sh.csv saved. Shape: (118530, 110)\n",
      "601888sh.csv saved. Shape: (118098, 110)\n",
      "601816sh.csv saved. Shape: (115234, 110)\n",
      "601766sh.csv saved. Shape: (117113, 110)\n",
      "601668sh.csv saved. Shape: (117224, 110)\n",
      "601600sh.csv saved. Shape: (118961, 110)\n",
      "601318sh.csv saved. Shape: (118409, 110)\n",
      "601088sh.csv saved. Shape: (117291, 110)\n",
      "601012sh.csv saved. Shape: (118912, 110)\n",
      "600941sh not found\n",
      "600900sh.csv saved. Shape: (80064, 110)\n",
      "600893sh.csv saved. Shape: (117791, 110)\n",
      "600887sh.csv saved. Shape: (118158, 110)\n",
      "600660sh.csv saved. Shape: (117141, 110)\n",
      "600585sh.csv saved. Shape: (117170, 110)\n",
      "600519sh.csv saved. Shape: (117539, 110)\n",
      "600436sh.csv saved. Shape: (116877, 110)\n",
      "600426sh.csv saved. Shape: (116832, 110)\n",
      "600415sh.csv saved. Shape: (113178, 110)\n",
      "600406sh.csv saved. Shape: (117751, 110)\n",
      "600309sh.csv saved. Shape: (116912, 110)\n",
      "600276sh.csv saved. Shape: (118308, 110)\n",
      "600176sh.csv saved. Shape: (117314, 110)\n",
      "600036sh.csv saved. Shape: (118027, 110)\n",
      "600031sh.csv saved. Shape: (118686, 110)\n",
      "600030sh.csv saved. Shape: (117997, 110)\n",
      "600028sh.csv saved. Shape: (117540, 110)\n",
      "600019sh.csv saved. Shape: (117711, 110)\n",
      "600009sh.csv saved. Shape: (117159, 110)\n",
      "300760sz.csv saved. Shape: (114194, 91)\n",
      "300750sz.csv saved. Shape: (115652, 91)\n",
      "300408sz.csv saved. Shape: (113504, 91)\n",
      "300124sz.csv saved. Shape: (115427, 91)\n",
      "300122sz.csv saved. Shape: (115357, 91)\n",
      "300015sz.csv saved. Shape: (115454, 91)\n",
      "002714sz.csv saved. Shape: (115687, 91)\n",
      "002594sz.csv saved. Shape: (115675, 91)\n",
      "002475sz.csv saved. Shape: (115667, 91)\n",
      "002371sz.csv saved. Shape: (115181, 91)\n",
      "002230sz.csv saved. Shape: (115383, 91)\n",
      "002027sz.csv saved. Shape: (115628, 91)\n",
      "000938sz.csv saved. Shape: (115274, 91)\n",
      "000792sz.csv saved. Shape: (115640, 91)\n",
      "000725sz.csv saved. Shape: (115729, 91)\n",
      "000333sz.csv saved. Shape: (115536, 91)\n",
      "000063sz.csv saved. Shape: (115455, 91)\n",
      "000002sz.csv saved. Shape: (115574, 91)\n"
     ]
    }
   ],
   "source": [
    "# 获取 ~/ 目录下所有 snap_stkhf202101_*.sas7bdat 文件\n",
    "for year_month in ['202111', '202112']:\n",
    "    for code in code_list:\n",
    "        file_path = glob.glob(f'/mnt/sdb1/HF{year_month[:4]}/L2HF{year_month[2:]}_L2/snap_stkhf{year_month}_{code}.sas7bdat')\n",
    "        if file_path:\n",
    "            df = pd.read_sas(file_path[0], format='sas7bdat', encoding='utf-8')\n",
    "            df.to_csv(f'rawdata_L2HF{year_month[2:]}_L2/{code}.csv', index=False)\n",
    "            print(f'{code}.csv saved. Shape: {df.shape}')\n",
    "        else:\n",
    "            print(f'{code} not found')\n",
    "# 600941sh 中国移动上市日期 2022-01-05，晚于2021年11月"
   ]
  },
  {
   "cell_type": "code",
   "execution_count": 13,
   "metadata": {},
   "outputs": [
    {
     "name": "stdout",
     "output_type": "stream",
     "text": [
      "688981sh.csv saved. Shape: (104569, 69)\n",
      "603993sh.csv saved. Shape: (104395, 69)\n",
      "603259sh.csv saved. Shape: (104306, 69)\n",
      "601899sh.csv saved. Shape: (104291, 69)\n",
      "601888sh.csv saved. Shape: (104426, 69)\n",
      "601816sh.csv saved. Shape: (103177, 69)\n",
      "601766sh.csv saved. Shape: (104679, 69)\n",
      "601668sh.csv saved. Shape: (104617, 69)\n",
      "601600sh.csv saved. Shape: (104298, 69)\n",
      "601318sh.csv saved. Shape: (104302, 69)\n",
      "601088sh.csv saved. Shape: (104527, 69)\n",
      "601012sh.csv saved. Shape: (104276, 69)\n",
      "600900sh.csv saved. Shape: (95506, 69)\n",
      "600893sh.csv saved. Shape: (104335, 69)\n",
      "600887sh.csv saved. Shape: (104299, 69)\n",
      "600660sh.csv saved. Shape: (104491, 69)\n",
      "600585sh.csv saved. Shape: (104576, 69)\n",
      "600519sh.csv saved. Shape: (104630, 69)\n",
      "600436sh.csv saved. Shape: (104360, 69)\n",
      "600426sh.csv saved. Shape: (104492, 69)\n",
      "600415sh.csv saved. Shape: (103701, 69)\n",
      "600406sh.csv saved. Shape: (104440, 69)\n",
      "600309sh.csv saved. Shape: (104428, 69)\n",
      "600276sh.csv saved. Shape: (104296, 69)\n",
      "600176sh.csv saved. Shape: (104492, 69)\n",
      "600036sh.csv saved. Shape: (104341, 69)\n",
      "600031sh.csv saved. Shape: (104275, 69)\n",
      "600030sh.csv saved. Shape: (104361, 69)\n",
      "600028sh.csv saved. Shape: (104607, 69)\n",
      "600019sh.csv saved. Shape: (104444, 69)\n",
      "600009sh.csv saved. Shape: (104412, 69)\n",
      "300760sz.csv saved. Shape: (103596, 69)\n",
      "300750sz.csv saved. Shape: (104229, 69)\n",
      "300408sz.csv saved. Shape: (102645, 69)\n",
      "300124sz.csv saved. Shape: (104232, 69)\n",
      "300122sz.csv saved. Shape: (104175, 69)\n",
      "300015sz.csv saved. Shape: (104235, 69)\n",
      "002714sz.csv saved. Shape: (104231, 69)\n",
      "002594sz.csv saved. Shape: (104236, 69)\n",
      "002475sz.csv saved. Shape: (104234, 69)\n",
      "002371sz.csv saved. Shape: (104006, 69)\n",
      "002230sz.csv saved. Shape: (104134, 69)\n",
      "002027sz.csv saved. Shape: (104233, 69)\n",
      "000938sz.csv saved. Shape: (104078, 69)\n",
      "000792sz.csv saved. Shape: (104232, 69)\n",
      "000725sz.csv saved. Shape: (104236, 69)\n",
      "000333sz.csv saved. Shape: (104234, 69)\n",
      "000063sz.csv saved. Shape: (104228, 69)\n",
      "000002sz.csv saved. Shape: (104235, 69)\n",
      "688981sh.csv saved. Shape: (109304, 69)\n",
      "603993sh.csv saved. Shape: (109200, 69)\n",
      "603259sh.csv saved. Shape: (109054, 69)\n",
      "601899sh.csv saved. Shape: (109060, 69)\n",
      "601888sh.csv saved. Shape: (109233, 69)\n",
      "601816sh.csv saved. Shape: (108533, 69)\n",
      "601766sh.csv saved. Shape: (109501, 69)\n",
      "601668sh.csv saved. Shape: (109272, 69)\n",
      "601600sh.csv saved. Shape: (109043, 69)\n",
      "601318sh.csv saved. Shape: (109063, 69)\n",
      "601088sh.csv saved. Shape: (109231, 69)\n",
      "601012sh.csv saved. Shape: (109020, 69)\n",
      "600900sh.csv saved. Shape: (73111, 69)\n",
      "600893sh.csv saved. Shape: (109156, 69)\n",
      "600887sh.csv saved. Shape: (109041, 69)\n",
      "600660sh.csv saved. Shape: (109296, 69)\n",
      "600585sh.csv saved. Shape: (109236, 69)\n",
      "600519sh.csv saved. Shape: (109316, 69)\n",
      "600436sh.csv saved. Shape: (109310, 69)\n",
      "600426sh.csv saved. Shape: (109058, 69)\n",
      "600415sh.csv saved. Shape: (107077, 69)\n",
      "600406sh.csv saved. Shape: (109096, 69)\n",
      "600309sh.csv saved. Shape: (109192, 69)\n",
      "600276sh.csv saved. Shape: (109054, 69)\n",
      "600176sh.csv saved. Shape: (109227, 69)\n",
      "600036sh.csv saved. Shape: (109037, 69)\n",
      "600031sh.csv saved. Shape: (109027, 69)\n",
      "600030sh.csv saved. Shape: (109114, 69)\n",
      "600028sh.csv saved. Shape: (109378, 69)\n",
      "600019sh.csv saved. Shape: (109238, 69)\n",
      "600009sh.csv saved. Shape: (109256, 69)\n",
      "300760sz.csv saved. Shape: (108064, 69)\n",
      "300750sz.csv saved. Shape: (108967, 69)\n",
      "300408sz.csv saved. Shape: (107464, 69)\n",
      "300124sz.csv saved. Shape: (108929, 69)\n",
      "300122sz.csv saved. Shape: (108915, 69)\n",
      "300015sz.csv saved. Shape: (108933, 69)\n",
      "002714sz.csv saved. Shape: (108974, 69)\n",
      "002594sz.csv saved. Shape: (108972, 69)\n",
      "002475sz.csv saved. Shape: (108974, 69)\n",
      "002371sz.csv saved. Shape: (108855, 69)\n",
      "002230sz.csv saved. Shape: (108852, 69)\n",
      "002027sz.csv saved. Shape: (108973, 69)\n",
      "000938sz.csv saved. Shape: (108803, 69)\n",
      "000792sz.csv saved. Shape: (108973, 69)\n",
      "000725sz.csv saved. Shape: (108974, 69)\n",
      "000333sz.csv saved. Shape: (108971, 69)\n",
      "000063sz.csv saved. Shape: (108966, 69)\n",
      "000002sz.csv saved. Shape: (108969, 69)\n"
     ]
    }
   ],
   "source": [
    "level2_col_list = []\n",
    "for l in range(1, 11):\n",
    "    BidPr_col = f'BidPr{l}'\n",
    "    BidVol_col = f'BidVol{l}'\n",
    "    AskPr_col = f'AskPr{l}'\n",
    "    AskVol_col = f'AskVol{l}'\n",
    "    level2_col_list.extend([BidPr_col, BidVol_col, AskPr_col, AskVol_col])\n",
    "    \n",
    "used_cols = [\n",
    "    'datetime', 'Exchflg', 'Code', 'Code_Mkt', 'Qdate', 'QTime', 'InstrumentStatus', 'Trdirec',\n",
    "    'PrevClPr', 'OpPr', 'HiPr', 'LoPr', 'Tprice', 'Tvolume', 'Tsum', 'Tdeals', 'TVolume_accu', 'TSum_accu', 'Tdeals_accu',\n",
    "    'TotBidVol', 'WghtAvgBidPr', 'TotAskVol', 'WghtAvgAskPr',\n",
    "    'Absspread', 'Respread', 'Abseffspread', 'Reeffspread', 'Depth1', 'Depth2'\n",
    "]\n",
    "used_cols.extend(level2_col_list)\n",
    "\n",
    "for year_month in ['202111', '202112']:\n",
    "    for code in code_list:\n",
    "        df = pd.read_csv(f'rawdata_L2HF{year_month[2:]}_L2/{code}.csv')\n",
    "\n",
    "        # convert all df in dfs to datetime\n",
    "        date = pd.to_datetime(df['Qdate'])\n",
    "        time = pd.to_timedelta(df['QTime'], unit='s')\n",
    "        df['datetime'] = date + time\n",
    "        \n",
    "        # select used cols\n",
    "        df = df[used_cols]\n",
    "        df = _U.trading_time_slice(df)\n",
    "        df.to_csv(f'data_{year_month}/{code}.csv', index=False)\n",
    "        print(f'{code}.csv saved. Shape: {df.shape}')"
   ]
  },
  {
   "cell_type": "markdown",
   "metadata": {},
   "source": [
    "### DataGen: Image + Label"
   ]
  },
  {
   "cell_type": "code",
   "execution_count": 3,
   "metadata": {},
   "outputs": [],
   "source": [
    "def calc_new_features(df: pd.DataFrame) -> pd.DataFrame:\n",
    "    \"\"\"\n",
    "    计算新的特征\n",
    "    \"\"\"\n",
    "    df['mid_price'] = (df['BidPr1'] + df['AskPr1']) / 2\n",
    "    \n",
    "    pred_cnt = 5\n",
    "    df['TWAP_mid'] = df['mid_price'].rolling(window=pred_cnt).mean()\n",
    "    \n",
    "    return df"
   ]
  },
  {
   "cell_type": "code",
   "execution_count": 9,
   "metadata": {},
   "outputs": [
    {
     "name": "stderr",
     "output_type": "stream",
     "text": [
      "100%|██████████| 104478/104478 [02:15<00:00, 769.84it/s]\n"
     ]
    },
    {
     "name": "stdout",
     "output_type": "stream",
     "text": [
      "600176sh.csv loaded.\n"
     ]
    },
    {
     "name": "stderr",
     "output_type": "stream",
     "text": [
      "100%|██████████| 104430/104430 [02:15<00:00, 771.74it/s]\n"
     ]
    },
    {
     "name": "stdout",
     "output_type": "stream",
     "text": [
      "600019sh.csv loaded.\n"
     ]
    },
    {
     "name": "stderr",
     "output_type": "stream",
     "text": [
      "100%|██████████| 104218/104218 [02:16<00:00, 764.59it/s]\n"
     ]
    },
    {
     "name": "stdout",
     "output_type": "stream",
     "text": [
      "300124sz.csv loaded.\n"
     ]
    },
    {
     "name": "stderr",
     "output_type": "stream",
     "text": [
      "100%|██████████| 104220/104220 [02:16<00:00, 766.05it/s]\n"
     ]
    },
    {
     "name": "stdout",
     "output_type": "stream",
     "text": [
      "002475sz.csv loaded.\n"
     ]
    },
    {
     "name": "stderr",
     "output_type": "stream",
     "text": [
      "100%|██████████| 104152/104152 [02:15<00:00, 771.26it/s]"
     ]
    },
    {
     "name": "stdout",
     "output_type": "stream",
     "text": [
      "000792sz.csv loaded.\n"
     ]
    },
    {
     "name": "stderr",
     "output_type": "stream",
     "text": [
      "\n"
     ]
    }
   ],
   "source": [
    "# training data\n",
    "code_list = [\n",
    "    '600176sh', \n",
    "    '600019sh', \n",
    "    '300124sz', \n",
    "    '002475sz', \n",
    "    '000792sz'\n",
    "]\n",
    "folder_path = 'data_202111/'\n",
    "record_cnt = 5\n",
    "pred_cnt = 5\n",
    "\n",
    "image_list = []\n",
    "label_list = []\n",
    "for code in code_list:\n",
    "    df = pd.read_csv(f'{folder_path}{code}.csv')\n",
    "    df['datetime'] = pd.to_datetime(df['datetime'])\n",
    "    df = calc_new_features(df)\n",
    "    df.dropna(axis=0, inplace=True)\n",
    "    df.reset_index(drop=True, inplace=True)\n",
    "    for i in tqdm.tqdm(range(len(df) - (record_cnt + pred_cnt))):\n",
    "        single_entry = _U.single_image(df.iloc[i:i + record_cnt + pred_cnt], record_cnt, pred_cnt)\n",
    "        image_list.append(single_entry[0])\n",
    "        label_list.append(single_entry[1])\n",
    "    print(f'{code}.csv loaded.')\n",
    "    \n"
   ]
  },
  {
   "cell_type": "code",
   "execution_count": null,
   "metadata": {},
   "outputs": [
    {
     "name": "stdout",
     "output_type": "stream",
     "text": [
      "50000\n",
      "(50000, 616)\n"
     ]
    }
   ],
   "source": [
    "image_df = pd.DataFrame({\n",
    "    'image': image_list,\n",
    "    'label': label_list\n",
    "})\n",
    "\n",
    "sample_size = 50000\n",
    "random_indices = np.random.choice(image_df.shape[0], sample_size, replace=False)\n",
    "print(len(random_indices))\n",
    "# Flatten images and create a new dataframe\n",
    "flatten_data = []\n",
    "for i in random_indices:\n",
    "    flattened_image = image_df.loc[i, 'image'].flatten()\n",
    "    label = image_df.loc[i, 'label']\n",
    "    flatten_data.append(np.concatenate(([label], flattened_image)))  # Label in first column\n",
    "\n",
    "columns = ['label'] + [f'pixel_{i}' for i in range(41 * 15)]\n",
    "flatten_df = pd.DataFrame(flatten_data, columns=columns)\n",
    "print(flatten_df.shape)\n",
    "\n",
    "# Save to CSV\n",
    "current_time = datetime.now().strftime('%Y%m%d_%H%M')\n",
    "flatten_df.to_csv(f'image_dataset_{current_time}.csv', index=False)\n",
    "\n",
    "# write a log in JSON for image_df\n",
    "import json\n",
    "log = {\n",
    "    'code_list': code_list,\n",
    "    'record_cnt': record_cnt,\n",
    "    'pred_cnt': pred_cnt,\n",
    "    'ori_shape': image_df.shape,\n",
    "    'sample_size': sample_size,\n",
    "    'datetime': current_time\n",
    "}\n",
    "log_path = f'image_dataset_{current_time}.json'\n",
    "with open(log_path, 'w') as f:\n",
    "    json.dump(log, f, indent=4)\n",
    "print(f'log saved to {log_path}')\n"
   ]
  },
  {
   "cell_type": "markdown",
   "metadata": {},
   "source": [
    "### Data Analysis"
   ]
  },
  {
   "cell_type": "code",
   "execution_count": 5,
   "metadata": {},
   "outputs": [
    {
     "name": "stdout",
     "output_type": "stream",
     "text": [
      "(50000, 616)\n"
     ]
    }
   ],
   "source": [
    "df = pd.read_csv('image_dataset_20250324_2212.csv')\n",
    "print(df.shape)"
   ]
  },
  {
   "cell_type": "code",
   "execution_count": null,
   "metadata": {},
   "outputs": [
    {
     "name": "stdout",
     "output_type": "stream",
     "text": [
      "Label distribution: \n",
      "label\n",
      "0.0    0.77746\n",
      "1.0    0.22254\n",
      "Name: proportion, dtype: float64\n"
     ]
    }
   ],
   "source": [
    "# 统计标签分布\n",
    "print(f\"Label distribution: \\n{df['label'].value_counts(normalize=True)}\")"
   ]
  },
  {
   "cell_type": "code",
   "execution_count": null,
   "metadata": {},
   "outputs": [],
   "source": []
  }
 ],
 "metadata": {
  "kernelspec": {
   "display_name": "Python 3",
   "language": "python",
   "name": "python3"
  },
  "language_info": {
   "codemirror_mode": {
    "name": "ipython",
    "version": 3
   },
   "file_extension": ".py",
   "mimetype": "text/x-python",
   "name": "python",
   "nbconvert_exporter": "python",
   "pygments_lexer": "ipython3",
   "version": "3.9.21"
  }
 },
 "nbformat": 4,
 "nbformat_minor": 2
}
